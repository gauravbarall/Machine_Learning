{
 "cells": [
  {
   "cell_type": "code",
   "execution_count": 1,
   "id": "dd8d3f00",
   "metadata": {},
   "outputs": [],
   "source": [
    "import pandas as pd\n",
    "import matplotlib.pyplot as plt\n",
    "import numpy as np"
   ]
  },
  {
   "cell_type": "code",
   "execution_count": 3,
   "id": "d4f01ec5",
   "metadata": {},
   "outputs": [],
   "source": [
    "df = pd.read_csv(\"titanic_toy.csv\")"
   ]
  },
  {
   "cell_type": "code",
   "execution_count": 7,
   "id": "4dfa9ae7",
   "metadata": {},
   "outputs": [
    {
     "data": {
      "text/html": [
       "<div>\n",
       "<style scoped>\n",
       "    .dataframe tbody tr th:only-of-type {\n",
       "        vertical-align: middle;\n",
       "    }\n",
       "\n",
       "    .dataframe tbody tr th {\n",
       "        vertical-align: top;\n",
       "    }\n",
       "\n",
       "    .dataframe thead th {\n",
       "        text-align: right;\n",
       "    }\n",
       "</style>\n",
       "<table border=\"1\" class=\"dataframe\">\n",
       "  <thead>\n",
       "    <tr style=\"text-align: right;\">\n",
       "      <th></th>\n",
       "      <th>Age</th>\n",
       "      <th>Fare</th>\n",
       "      <th>Family</th>\n",
       "      <th>Survived</th>\n",
       "    </tr>\n",
       "  </thead>\n",
       "  <tbody>\n",
       "    <tr>\n",
       "      <th>677</th>\n",
       "      <td>18.0</td>\n",
       "      <td>9.8417</td>\n",
       "      <td>0</td>\n",
       "      <td>1</td>\n",
       "    </tr>\n",
       "    <tr>\n",
       "      <th>403</th>\n",
       "      <td>28.0</td>\n",
       "      <td>15.8500</td>\n",
       "      <td>1</td>\n",
       "      <td>0</td>\n",
       "    </tr>\n",
       "    <tr>\n",
       "      <th>98</th>\n",
       "      <td>34.0</td>\n",
       "      <td>NaN</td>\n",
       "      <td>1</td>\n",
       "      <td>1</td>\n",
       "    </tr>\n",
       "    <tr>\n",
       "      <th>738</th>\n",
       "      <td>NaN</td>\n",
       "      <td>7.8958</td>\n",
       "      <td>0</td>\n",
       "      <td>0</td>\n",
       "    </tr>\n",
       "    <tr>\n",
       "      <th>346</th>\n",
       "      <td>40.0</td>\n",
       "      <td>13.0000</td>\n",
       "      <td>0</td>\n",
       "      <td>1</td>\n",
       "    </tr>\n",
       "  </tbody>\n",
       "</table>\n",
       "</div>"
      ],
      "text/plain": [
       "      Age     Fare  Family  Survived\n",
       "677  18.0   9.8417       0         1\n",
       "403  28.0  15.8500       1         0\n",
       "98   34.0      NaN       1         1\n",
       "738   NaN   7.8958       0         0\n",
       "346  40.0  13.0000       0         1"
      ]
     },
     "execution_count": 7,
     "metadata": {},
     "output_type": "execute_result"
    }
   ],
   "source": [
    "df.sample(5)"
   ]
  },
  {
   "cell_type": "code",
   "execution_count": 17,
   "id": "77f7c947",
   "metadata": {},
   "outputs": [
    {
     "name": "stdout",
     "output_type": "stream",
     "text": [
      "<class 'pandas.core.frame.DataFrame'>\n",
      "RangeIndex: 891 entries, 0 to 890\n",
      "Data columns (total 4 columns):\n",
      " #   Column    Non-Null Count  Dtype  \n",
      "---  ------    --------------  -----  \n",
      " 0   Age       714 non-null    float64\n",
      " 1   Fare      846 non-null    float64\n",
      " 2   Family    891 non-null    int64  \n",
      " 3   Survived  891 non-null    int64  \n",
      "dtypes: float64(2), int64(2)\n",
      "memory usage: 28.0 KB\n"
     ]
    }
   ],
   "source": [
    "df.info()"
   ]
  },
  {
   "cell_type": "code",
   "execution_count": 8,
   "id": "9bf97a54",
   "metadata": {},
   "outputs": [
    {
     "data": {
      "text/plain": [
       "Age         177\n",
       "Fare         45\n",
       "Family        0\n",
       "Survived      0\n",
       "dtype: int64"
      ]
     },
     "execution_count": 8,
     "metadata": {},
     "output_type": "execute_result"
    }
   ],
   "source": [
    "df.isnull().sum()"
   ]
  },
  {
   "cell_type": "code",
   "execution_count": 10,
   "id": "6972c42a",
   "metadata": {},
   "outputs": [],
   "source": [
    "X = df.iloc[:, 0:-1]\n",
    "y = df.iloc[:, -1]"
   ]
  },
  {
   "cell_type": "code",
   "execution_count": 9,
   "id": "0d015609",
   "metadata": {},
   "outputs": [],
   "source": [
    "from sklearn.model_selection import train_test_split"
   ]
  },
  {
   "cell_type": "code",
   "execution_count": 13,
   "id": "cac3a022",
   "metadata": {},
   "outputs": [],
   "source": [
    "X_train, X_test, y_train, y_test = train_test_split(X, y, random_state=67, test_size=0.2)"
   ]
  },
  {
   "cell_type": "code",
   "execution_count": 15,
   "id": "7b139f35",
   "metadata": {},
   "outputs": [
    {
     "data": {
      "text/html": [
       "<div>\n",
       "<style scoped>\n",
       "    .dataframe tbody tr th:only-of-type {\n",
       "        vertical-align: middle;\n",
       "    }\n",
       "\n",
       "    .dataframe tbody tr th {\n",
       "        vertical-align: top;\n",
       "    }\n",
       "\n",
       "    .dataframe thead th {\n",
       "        text-align: right;\n",
       "    }\n",
       "</style>\n",
       "<table border=\"1\" class=\"dataframe\">\n",
       "  <thead>\n",
       "    <tr style=\"text-align: right;\">\n",
       "      <th></th>\n",
       "      <th>Age</th>\n",
       "      <th>Fare</th>\n",
       "      <th>Family</th>\n",
       "    </tr>\n",
       "  </thead>\n",
       "  <tbody>\n",
       "    <tr>\n",
       "      <th>873</th>\n",
       "      <td>47.0</td>\n",
       "      <td>9.0000</td>\n",
       "      <td>0</td>\n",
       "    </tr>\n",
       "    <tr>\n",
       "      <th>649</th>\n",
       "      <td>23.0</td>\n",
       "      <td>NaN</td>\n",
       "      <td>0</td>\n",
       "    </tr>\n",
       "    <tr>\n",
       "      <th>713</th>\n",
       "      <td>29.0</td>\n",
       "      <td>9.4833</td>\n",
       "      <td>0</td>\n",
       "    </tr>\n",
       "    <tr>\n",
       "      <th>135</th>\n",
       "      <td>23.0</td>\n",
       "      <td>15.0458</td>\n",
       "      <td>0</td>\n",
       "    </tr>\n",
       "    <tr>\n",
       "      <th>639</th>\n",
       "      <td>NaN</td>\n",
       "      <td>16.1000</td>\n",
       "      <td>1</td>\n",
       "    </tr>\n",
       "  </tbody>\n",
       "</table>\n",
       "</div>"
      ],
      "text/plain": [
       "      Age     Fare  Family\n",
       "873  47.0   9.0000       0\n",
       "649  23.0      NaN       0\n",
       "713  29.0   9.4833       0\n",
       "135  23.0  15.0458       0\n",
       "639   NaN  16.1000       1"
      ]
     },
     "execution_count": 15,
     "metadata": {},
     "output_type": "execute_result"
    }
   ],
   "source": [
    "X_train.head()"
   ]
  },
  {
   "cell_type": "code",
   "execution_count": 16,
   "id": "9fde2def",
   "metadata": {},
   "outputs": [
    {
     "data": {
      "text/html": [
       "<div>\n",
       "<style scoped>\n",
       "    .dataframe tbody tr th:only-of-type {\n",
       "        vertical-align: middle;\n",
       "    }\n",
       "\n",
       "    .dataframe tbody tr th {\n",
       "        vertical-align: top;\n",
       "    }\n",
       "\n",
       "    .dataframe thead th {\n",
       "        text-align: right;\n",
       "    }\n",
       "</style>\n",
       "<table border=\"1\" class=\"dataframe\">\n",
       "  <thead>\n",
       "    <tr style=\"text-align: right;\">\n",
       "      <th></th>\n",
       "      <th>Age</th>\n",
       "      <th>Fare</th>\n",
       "      <th>Family</th>\n",
       "    </tr>\n",
       "  </thead>\n",
       "  <tbody>\n",
       "    <tr>\n",
       "      <th>695</th>\n",
       "      <td>52.0</td>\n",
       "      <td>13.5000</td>\n",
       "      <td>0</td>\n",
       "    </tr>\n",
       "    <tr>\n",
       "      <th>82</th>\n",
       "      <td>NaN</td>\n",
       "      <td>NaN</td>\n",
       "      <td>0</td>\n",
       "    </tr>\n",
       "    <tr>\n",
       "      <th>765</th>\n",
       "      <td>51.0</td>\n",
       "      <td>77.9583</td>\n",
       "      <td>1</td>\n",
       "    </tr>\n",
       "    <tr>\n",
       "      <th>27</th>\n",
       "      <td>19.0</td>\n",
       "      <td>263.0000</td>\n",
       "      <td>5</td>\n",
       "    </tr>\n",
       "    <tr>\n",
       "      <th>844</th>\n",
       "      <td>17.0</td>\n",
       "      <td>8.6625</td>\n",
       "      <td>0</td>\n",
       "    </tr>\n",
       "  </tbody>\n",
       "</table>\n",
       "</div>"
      ],
      "text/plain": [
       "      Age      Fare  Family\n",
       "695  52.0   13.5000       0\n",
       "82    NaN       NaN       0\n",
       "765  51.0   77.9583       1\n",
       "27   19.0  263.0000       5\n",
       "844  17.0    8.6625       0"
      ]
     },
     "execution_count": 16,
     "metadata": {},
     "output_type": "execute_result"
    }
   ],
   "source": [
    "X_test.head()"
   ]
  },
  {
   "cell_type": "code",
   "execution_count": 18,
   "id": "053296c1",
   "metadata": {},
   "outputs": [
    {
     "data": {
      "text/plain": [
       "((712, 3), (179, 3))"
      ]
     },
     "execution_count": 18,
     "metadata": {},
     "output_type": "execute_result"
    }
   ],
   "source": [
    "X_train.shape, X_test.shape"
   ]
  },
  {
   "cell_type": "code",
   "execution_count": 22,
   "id": "7b3b5778",
   "metadata": {},
   "outputs": [
    {
     "data": {
      "text/plain": [
       "Age       0.220506\n",
       "Fare      0.053371\n",
       "Family    0.000000\n",
       "dtype: float64"
      ]
     },
     "execution_count": 22,
     "metadata": {},
     "output_type": "execute_result"
    }
   ],
   "source": [
    "X_train.isnull().mean()"
   ]
  },
  {
   "cell_type": "markdown",
   "id": "490490f0",
   "metadata": {},
   "source": [
    "# Filling missing values with Mean/Median"
   ]
  },
  {
   "cell_type": "markdown",
   "id": "7745d153",
   "metadata": {},
   "source": [
    "### 1. Using pandas "
   ]
  },
  {
   "cell_type": "code",
   "execution_count": 23,
   "id": "b5065766",
   "metadata": {},
   "outputs": [],
   "source": [
    "X_train['Age_mean'] = X_train['Age'].fillna(X_train['Age'].mean())\n",
    "X_train['Age_median'] = X_train['Age'].fillna(X_train['Age'].median())\n",
    "\n",
    "X_train['Fare_mean'] = X_train['Fare'].fillna(X_train['Fare'].mean())\n",
    "X_train['Fare_median'] = X_train['Fare'].fillna(X_train['Fare'].median())"
   ]
  },
  {
   "cell_type": "code",
   "execution_count": 25,
   "id": "183b85f1",
   "metadata": {},
   "outputs": [
    {
     "data": {
      "text/html": [
       "<div>\n",
       "<style scoped>\n",
       "    .dataframe tbody tr th:only-of-type {\n",
       "        vertical-align: middle;\n",
       "    }\n",
       "\n",
       "    .dataframe tbody tr th {\n",
       "        vertical-align: top;\n",
       "    }\n",
       "\n",
       "    .dataframe thead th {\n",
       "        text-align: right;\n",
       "    }\n",
       "</style>\n",
       "<table border=\"1\" class=\"dataframe\">\n",
       "  <thead>\n",
       "    <tr style=\"text-align: right;\">\n",
       "      <th></th>\n",
       "      <th>Age</th>\n",
       "      <th>Fare</th>\n",
       "      <th>Family</th>\n",
       "      <th>Age_mean</th>\n",
       "      <th>Age_median</th>\n",
       "      <th>Fare_mean</th>\n",
       "      <th>Fare_median</th>\n",
       "    </tr>\n",
       "  </thead>\n",
       "  <tbody>\n",
       "    <tr>\n",
       "      <th>873</th>\n",
       "      <td>47.0</td>\n",
       "      <td>9.0000</td>\n",
       "      <td>0</td>\n",
       "      <td>47.000000</td>\n",
       "      <td>47.0</td>\n",
       "      <td>9.000000</td>\n",
       "      <td>9.00000</td>\n",
       "    </tr>\n",
       "    <tr>\n",
       "      <th>649</th>\n",
       "      <td>23.0</td>\n",
       "      <td>NaN</td>\n",
       "      <td>0</td>\n",
       "      <td>23.000000</td>\n",
       "      <td>23.0</td>\n",
       "      <td>31.027577</td>\n",
       "      <td>14.47915</td>\n",
       "    </tr>\n",
       "    <tr>\n",
       "      <th>713</th>\n",
       "      <td>29.0</td>\n",
       "      <td>9.4833</td>\n",
       "      <td>0</td>\n",
       "      <td>29.000000</td>\n",
       "      <td>29.0</td>\n",
       "      <td>9.483300</td>\n",
       "      <td>9.48330</td>\n",
       "    </tr>\n",
       "    <tr>\n",
       "      <th>135</th>\n",
       "      <td>23.0</td>\n",
       "      <td>15.0458</td>\n",
       "      <td>0</td>\n",
       "      <td>23.000000</td>\n",
       "      <td>23.0</td>\n",
       "      <td>15.045800</td>\n",
       "      <td>15.04580</td>\n",
       "    </tr>\n",
       "    <tr>\n",
       "      <th>639</th>\n",
       "      <td>NaN</td>\n",
       "      <td>16.1000</td>\n",
       "      <td>1</td>\n",
       "      <td>29.625081</td>\n",
       "      <td>28.0</td>\n",
       "      <td>16.100000</td>\n",
       "      <td>16.10000</td>\n",
       "    </tr>\n",
       "  </tbody>\n",
       "</table>\n",
       "</div>"
      ],
      "text/plain": [
       "      Age     Fare  Family   Age_mean  Age_median  Fare_mean  Fare_median\n",
       "873  47.0   9.0000       0  47.000000        47.0   9.000000      9.00000\n",
       "649  23.0      NaN       0  23.000000        23.0  31.027577     14.47915\n",
       "713  29.0   9.4833       0  29.000000        29.0   9.483300      9.48330\n",
       "135  23.0  15.0458       0  23.000000        23.0  15.045800     15.04580\n",
       "639   NaN  16.1000       1  29.625081        28.0  16.100000     16.10000"
      ]
     },
     "execution_count": 25,
     "metadata": {},
     "output_type": "execute_result"
    }
   ],
   "source": [
    "X_train.head()"
   ]
  },
  {
   "cell_type": "code",
   "execution_count": 29,
   "id": "204d06b7",
   "metadata": {},
   "outputs": [
    {
     "name": "stdout",
     "output_type": "stream",
     "text": [
      "211.22734453312535\n",
      "164.5850195096362\n",
      "165.03958149149045\n"
     ]
    }
   ],
   "source": [
    "#original variance of Age\n",
    "print(X_train['Age'].var())\n",
    "\n",
    "#variance of age after imputing with mean\n",
    "print(X_train['Age_mean'].var())\n",
    "\n",
    "#variance of age after imputing with median\n",
    "print(X_train['Age_median'].var())"
   ]
  },
  {
   "cell_type": "code",
   "execution_count": 35,
   "id": "caa1c76a",
   "metadata": {},
   "outputs": [
    {
     "name": "stdout",
     "output_type": "stream",
     "text": [
      "2247.438036060769\n",
      "2127.3217978465505\n",
      "2141.1768242990775\n"
     ]
    }
   ],
   "source": [
    "# Original variacne of Fare\n",
    "print(X_train['Fare'].var())\n",
    "\n",
    "# variance of Fare after imputing with mean\n",
    "print(X_train['Fare_mean'].var())\n",
    "\n",
    "# variance of Fare after imputing with median\n",
    "print(X_train['Fare_median'].var())"
   ]
  },
  {
   "cell_type": "markdown",
   "id": "0289b5a2",
   "metadata": {},
   "source": [
    "### Visualizing change in distribution after filling missing values"
   ]
  },
  {
   "cell_type": "code",
   "execution_count": 47,
   "id": "86f50f6d",
   "metadata": {},
   "outputs": [
    {
     "data": {
      "text/plain": [
       "<matplotlib.legend.Legend at 0x265fe326f10>"
      ]
     },
     "execution_count": 47,
     "metadata": {},
     "output_type": "execute_result"
    },
    {
     "data": {
      "image/png": "[encoded data removed]",
      "text/plain": [
       "<Figure size 1200x500 with 1 Axes>"
      ]
     },
     "metadata": {},
     "output_type": "display_data"
    }
   ],
   "source": [
    "# visualizing change in kde before and after imputing mean/median to the Age column\n",
    "fig = plt.figure(figsize=(12,5))\n",
    "\n",
    "ax = fig.add_subplot(111)\n",
    "\n",
    "X_train['Age'].plot(kind='kde', ax=ax, color='purple')\n",
    "X_train['Age_mean'].plot(kind='kde', ax=ax, color='red')\n",
    "X_train['Age_median'].plot(kind='kde', ax=ax, color='orange')\n",
    "\n",
    "# add legends\n",
    "lines, labels = ax.get_legend_handles_labels()\n",
    "ax.legend(lines, labels, loc='best')\n"
   ]
  },
  {
   "cell_type": "code",
   "execution_count": 48,
   "id": "153f9a20",
   "metadata": {},
   "outputs": [
    {
     "data": {
      "text/plain": [
       "<matplotlib.legend.Legend at 0x265ffc7bc90>"
      ]
     },
     "execution_count": 48,
     "metadata": {},
     "output_type": "execute_result"
    },
    {
     "data": {
      "image/png": "[encoded data removed]",
      "text/plain": [
       "<Figure size 1200x500 with 1 Axes>"
      ]
     },
     "metadata": {},
     "output_type": "display_data"
    }
   ],
   "source": [
    "# visualizing change in kde before and after imputing mean/median to the Fare column\n",
    "fig = plt.figure(figsize=(12,5))\n",
    "\n",
    "ax = fig.add_subplot(111)\n",
    "\n",
    "X_train['Fare'].plot(kind='kde', ax=ax, color='purple')\n",
    "X_train['Fare_mean'].plot(kind='kde', ax=ax, color='red')\n",
    "X_train['Fare_median'].plot(kind='kde', ax=ax, color='blue')\n",
    "\n",
    "# add legends\n",
    "lines, labels = ax.get_legend_handles_labels()\n",
    "ax.legend(lines, labels, loc='best')"
   ]
  },
  {
   "cell_type": "markdown",
   "id": "48dbdd43",
   "metadata": {},
   "source": [
    "#### The distribution of Age column changes drastically but distribution of Fare doesn't change very much,which might be due to the fact that Age column had around 22%  missing values wheras Fare column had only 5% missing values. So it's more likely that column with large number of missing values results in more change in distribution (due to decreasing variance) of the data compared to column with small number of missing values after imputing with mean or median"
   ]
  },
  {
   "cell_type": "code",
   "execution_count": 49,
   "id": "3820abbf",
   "metadata": {},
   "outputs": [
    {
     "data": {
      "text/html": [
       "<div>\n",
       "<style scoped>\n",
       "    .dataframe tbody tr th:only-of-type {\n",
       "        vertical-align: middle;\n",
       "    }\n",
       "\n",
       "    .dataframe tbody tr th {\n",
       "        vertical-align: top;\n",
       "    }\n",
       "\n",
       "    .dataframe thead th {\n",
       "        text-align: right;\n",
       "    }\n",
       "</style>\n",
       "<table border=\"1\" class=\"dataframe\">\n",
       "  <thead>\n",
       "    <tr style=\"text-align: right;\">\n",
       "      <th></th>\n",
       "      <th>Age</th>\n",
       "      <th>Fare</th>\n",
       "      <th>Family</th>\n",
       "      <th>Age_mean</th>\n",
       "      <th>Age_median</th>\n",
       "      <th>Fare_mean</th>\n",
       "      <th>Fare_median</th>\n",
       "    </tr>\n",
       "  </thead>\n",
       "  <tbody>\n",
       "    <tr>\n",
       "      <th>Age</th>\n",
       "      <td>211.227345</td>\n",
       "      <td>46.339748</td>\n",
       "      <td>-7.912599</td>\n",
       "      <td>211.227345</td>\n",
       "      <td>211.227345</td>\n",
       "      <td>43.317902</td>\n",
       "      <td>41.402516</td>\n",
       "    </tr>\n",
       "    <tr>\n",
       "      <th>Fare</th>\n",
       "      <td>46.339748</td>\n",
       "      <td>2247.438036</td>\n",
       "      <td>17.042151</td>\n",
       "      <td>35.658422</td>\n",
       "      <td>38.506570</td>\n",
       "      <td>2247.438036</td>\n",
       "      <td>2247.438036</td>\n",
       "    </tr>\n",
       "    <tr>\n",
       "      <th>Family</th>\n",
       "      <td>-7.912599</td>\n",
       "      <td>17.042151</td>\n",
       "      <td>2.730693</td>\n",
       "      <td>-6.165372</td>\n",
       "      <td>-6.095115</td>\n",
       "      <td>16.131319</td>\n",
       "      <td>16.265346</td>\n",
       "    </tr>\n",
       "    <tr>\n",
       "      <th>Age_mean</th>\n",
       "      <td>211.227345</td>\n",
       "      <td>35.658422</td>\n",
       "      <td>-6.165372</td>\n",
       "      <td>164.585020</td>\n",
       "      <td>164.585020</td>\n",
       "      <td>33.752627</td>\n",
       "      <td>32.260189</td>\n",
       "    </tr>\n",
       "    <tr>\n",
       "      <th>Age_median</th>\n",
       "      <td>211.227345</td>\n",
       "      <td>38.506570</td>\n",
       "      <td>-6.095115</td>\n",
       "      <td>164.585020</td>\n",
       "      <td>165.039581</td>\n",
       "      <td>36.448554</td>\n",
       "      <td>34.828302</td>\n",
       "    </tr>\n",
       "    <tr>\n",
       "      <th>Fare_mean</th>\n",
       "      <td>43.317902</td>\n",
       "      <td>2247.438036</td>\n",
       "      <td>16.131319</td>\n",
       "      <td>33.752627</td>\n",
       "      <td>36.448554</td>\n",
       "      <td>2127.321798</td>\n",
       "      <td>2127.321798</td>\n",
       "    </tr>\n",
       "    <tr>\n",
       "      <th>Fare_median</th>\n",
       "      <td>41.402516</td>\n",
       "      <td>2247.438036</td>\n",
       "      <td>16.265346</td>\n",
       "      <td>32.260189</td>\n",
       "      <td>34.828302</td>\n",
       "      <td>2127.321798</td>\n",
       "      <td>2141.176824</td>\n",
       "    </tr>\n",
       "  </tbody>\n",
       "</table>\n",
       "</div>"
      ],
      "text/plain": [
       "                    Age         Fare     Family    Age_mean  Age_median  \\\n",
       "Age          211.227345    46.339748  -7.912599  211.227345  211.227345   \n",
       "Fare          46.339748  2247.438036  17.042151   35.658422   38.506570   \n",
       "Family        -7.912599    17.042151   2.730693   -6.165372   -6.095115   \n",
       "Age_mean     211.227345    35.658422  -6.165372  164.585020  164.585020   \n",
       "Age_median   211.227345    38.506570  -6.095115  164.585020  165.039581   \n",
       "Fare_mean     43.317902  2247.438036  16.131319   33.752627   36.448554   \n",
       "Fare_median   41.402516  2247.438036  16.265346   32.260189   34.828302   \n",
       "\n",
       "               Fare_mean  Fare_median  \n",
       "Age            43.317902    41.402516  \n",
       "Fare         2247.438036  2247.438036  \n",
       "Family         16.131319    16.265346  \n",
       "Age_mean       33.752627    32.260189  \n",
       "Age_median     36.448554    34.828302  \n",
       "Fare_mean    2127.321798  2127.321798  \n",
       "Fare_median  2127.321798  2141.176824  "
      ]
     },
     "execution_count": 49,
     "metadata": {},
     "output_type": "execute_result"
    }
   ],
   "source": [
    "X_train.cov()"
   ]
  },
  {
   "cell_type": "code",
   "execution_count": 50,
   "id": "78706be5",
   "metadata": {},
   "outputs": [
    {
     "data": {
      "text/html": [
       "<div>\n",
       "<style scoped>\n",
       "    .dataframe tbody tr th:only-of-type {\n",
       "        vertical-align: middle;\n",
       "    }\n",
       "\n",
       "    .dataframe tbody tr th {\n",
       "        vertical-align: top;\n",
       "    }\n",
       "\n",
       "    .dataframe thead th {\n",
       "        text-align: right;\n",
       "    }\n",
       "</style>\n",
       "<table border=\"1\" class=\"dataframe\">\n",
       "  <thead>\n",
       "    <tr style=\"text-align: right;\">\n",
       "      <th></th>\n",
       "      <th>Age</th>\n",
       "      <th>Fare</th>\n",
       "      <th>Family</th>\n",
       "      <th>Age_mean</th>\n",
       "      <th>Age_median</th>\n",
       "      <th>Fare_mean</th>\n",
       "      <th>Fare_median</th>\n",
       "    </tr>\n",
       "  </thead>\n",
       "  <tbody>\n",
       "    <tr>\n",
       "      <th>Age</th>\n",
       "      <td>1.000000</td>\n",
       "      <td>0.062560</td>\n",
       "      <td>-0.357061</td>\n",
       "      <td>1.000000</td>\n",
       "      <td>1.000000</td>\n",
       "      <td>0.060774</td>\n",
       "      <td>0.057852</td>\n",
       "    </tr>\n",
       "    <tr>\n",
       "      <th>Fare</th>\n",
       "      <td>0.062560</td>\n",
       "      <td>1.000000</td>\n",
       "      <td>0.213933</td>\n",
       "      <td>0.058363</td>\n",
       "      <td>0.062950</td>\n",
       "      <td>1.000000</td>\n",
       "      <td>1.000000</td>\n",
       "    </tr>\n",
       "    <tr>\n",
       "      <th>Family</th>\n",
       "      <td>-0.357061</td>\n",
       "      <td>0.213933</td>\n",
       "      <td>1.000000</td>\n",
       "      <td>-0.290822</td>\n",
       "      <td>-0.287112</td>\n",
       "      <td>0.211649</td>\n",
       "      <td>0.212716</td>\n",
       "    </tr>\n",
       "    <tr>\n",
       "      <th>Age_mean</th>\n",
       "      <td>1.000000</td>\n",
       "      <td>0.058363</td>\n",
       "      <td>-0.290822</td>\n",
       "      <td>1.000000</td>\n",
       "      <td>0.998622</td>\n",
       "      <td>0.057042</td>\n",
       "      <td>0.054343</td>\n",
       "    </tr>\n",
       "    <tr>\n",
       "      <th>Age_median</th>\n",
       "      <td>1.000000</td>\n",
       "      <td>0.062950</td>\n",
       "      <td>-0.287112</td>\n",
       "      <td>0.998622</td>\n",
       "      <td>1.000000</td>\n",
       "      <td>0.061513</td>\n",
       "      <td>0.058588</td>\n",
       "    </tr>\n",
       "    <tr>\n",
       "      <th>Fare_mean</th>\n",
       "      <td>0.060774</td>\n",
       "      <td>1.000000</td>\n",
       "      <td>0.211649</td>\n",
       "      <td>0.057042</td>\n",
       "      <td>0.061513</td>\n",
       "      <td>1.000000</td>\n",
       "      <td>0.996759</td>\n",
       "    </tr>\n",
       "    <tr>\n",
       "      <th>Fare_median</th>\n",
       "      <td>0.057852</td>\n",
       "      <td>1.000000</td>\n",
       "      <td>0.212716</td>\n",
       "      <td>0.054343</td>\n",
       "      <td>0.058588</td>\n",
       "      <td>0.996759</td>\n",
       "      <td>1.000000</td>\n",
       "    </tr>\n",
       "  </tbody>\n",
       "</table>\n",
       "</div>"
      ],
      "text/plain": [
       "                  Age      Fare    Family  Age_mean  Age_median  Fare_mean  \\\n",
       "Age          1.000000  0.062560 -0.357061  1.000000    1.000000   0.060774   \n",
       "Fare         0.062560  1.000000  0.213933  0.058363    0.062950   1.000000   \n",
       "Family      -0.357061  0.213933  1.000000 -0.290822   -0.287112   0.211649   \n",
       "Age_mean     1.000000  0.058363 -0.290822  1.000000    0.998622   0.057042   \n",
       "Age_median   1.000000  0.062950 -0.287112  0.998622    1.000000   0.061513   \n",
       "Fare_mean    0.060774  1.000000  0.211649  0.057042    0.061513   1.000000   \n",
       "Fare_median  0.057852  1.000000  0.212716  0.054343    0.058588   0.996759   \n",
       "\n",
       "             Fare_median  \n",
       "Age             0.057852  \n",
       "Fare            1.000000  \n",
       "Family          0.212716  \n",
       "Age_mean        0.054343  \n",
       "Age_median      0.058588  \n",
       "Fare_mean       0.996759  \n",
       "Fare_median     1.000000  "
      ]
     },
     "execution_count": 50,
     "metadata": {},
     "output_type": "execute_result"
    }
   ],
   "source": [
    "X_train.corr()"
   ]
  },
  {
   "cell_type": "code",
   "execution_count": 51,
   "id": "f0599d01",
   "metadata": {},
   "outputs": [
    {
     "data": {
      "text/plain": [
       "<Axes: >"
      ]
     },
     "execution_count": 51,
     "metadata": {},
     "output_type": "execute_result"
    },
    {
     "data": {
      "image/png": "[encoded data removed]",
      "text/plain": [
       "<Figure size 640x480 with 1 Axes>"
      ]
     },
     "metadata": {},
     "output_type": "display_data"
    }
   ],
   "source": [
    "X_train[['Age', 'Age_median', 'Age_mean']].boxplot()"
   ]
  },
  {
   "cell_type": "code",
   "execution_count": 52,
   "id": "7d0ab6e3",
   "metadata": {},
   "outputs": [
    {
     "data": {
      "text/plain": [
       "<Axes: >"
      ]
     },
     "execution_count": 52,
     "metadata": {},
     "output_type": "execute_result"
    },
    {
     "data": {
      "image/png": "[encoded data removed]",
      "text/plain": [
       "<Figure size 640x480 with 1 Axes>"
      ]
     },
     "metadata": {},
     "output_type": "display_data"
    }
   ],
   "source": [
    "X_train[['Fare', 'Fare_median', 'Fare_mean']].boxplot()"
   ]
  },
  {
   "cell_type": "markdown",
   "id": "17c4d80b",
   "metadata": {},
   "source": [
    "### 2. Using sklearn"
   ]
  },
  {
   "cell_type": "code",
   "execution_count": 70,
   "id": "98c36617",
   "metadata": {},
   "outputs": [],
   "source": [
    "from sklearn.impute import SimpleImputer\n",
    "from sklearn.compose import ColumnTransformer"
   ]
  },
  {
   "cell_type": "code",
   "execution_count": 80,
   "id": "1a38b7a0",
   "metadata": {},
   "outputs": [],
   "source": [
    "X_train,X_test,y_train,y_test = train_test_split(X,y,test_size=0.2,random_state=2)"
   ]
  },
  {
   "cell_type": "code",
   "execution_count": 81,
   "id": "ce86f305",
   "metadata": {},
   "outputs": [],
   "source": [
    "imputer1 = SimpleImputer(strategy='median')\n",
    "imputer2 = SimpleImputer(strategy='mean')"
   ]
  },
  {
   "cell_type": "code",
   "execution_count": 82,
   "id": "49cc49da",
   "metadata": {},
   "outputs": [],
   "source": [
    "trf = ColumnTransformer([\n",
    "    ('Age_imp', imputer1, ['Age']),\n",
    "    ('Fare_imp', imputer2, ['Fare'])\n",
    "], remainder='passthrough')"
   ]
  },
  {
   "cell_type": "code",
   "execution_count": 83,
   "id": "4da38b7b",
   "metadata": {},
   "outputs": [],
   "source": [
    "X_train_transformed = trf.fit_transform(X_train)\n",
    "X_test_transformed = trf.transform(X_test)"
   ]
  },
  {
   "cell_type": "code",
   "execution_count": 84,
   "id": "2b4f93a5",
   "metadata": {},
   "outputs": [
    {
     "data": {
      "text/plain": [
       "array([[ 40.    ,  27.7208,   0.    ],\n",
       "       [  4.    ,  16.7   ,   2.    ],\n",
       "       [ 47.    ,   9.    ,   0.    ],\n",
       "       ...,\n",
       "       [ 71.    ,  49.5042,   0.    ],\n",
       "       [ 28.75  , 221.7792,   0.    ],\n",
       "       [ 28.75  ,  25.925 ,   0.    ]])"
      ]
     },
     "execution_count": 84,
     "metadata": {},
     "output_type": "execute_result"
    }
   ],
   "source": [
    "X_train_transformed"
   ]
  },
  {
   "cell_type": "code",
   "execution_count": 85,
   "id": "379bfe5c",
   "metadata": {},
   "outputs": [
    {
     "data": {
      "text/plain": [
       "False"
      ]
     },
     "execution_count": 85,
     "metadata": {},
     "output_type": "execute_result"
    }
   ],
   "source": [
    "np.isnan(X_train_transformed).any()"
   ]
  },
  {
   "cell_type": "code",
   "execution_count": 86,
   "id": "d1224417",
   "metadata": {},
   "outputs": [
    {
     "data": {
      "text/plain": [
       "{'Age_imp': SimpleImputer(strategy='median'),\n",
       " 'Fare_imp': SimpleImputer(),\n",
       " 'remainder': 'passthrough'}"
      ]
     },
     "execution_count": 86,
     "metadata": {},
     "output_type": "execute_result"
    }
   ],
   "source": [
    "trf.named_transformers_"
   ]
  },
  {
   "cell_type": "code",
   "execution_count": 87,
   "id": "3f631d99",
   "metadata": {},
   "outputs": [
    {
     "data": {
      "text/plain": [
       "array([28.75])"
      ]
     },
     "execution_count": 87,
     "metadata": {},
     "output_type": "execute_result"
    }
   ],
   "source": [
    "trf.named_transformers_['Age_imp'].statistics_"
   ]
  }
 ],
 "metadata": {
  "kernelspec": {
   "display_name": "Python 3 (ipykernel)",
   "language": "python",
   "name": "python3"
  },
  "language_info": {
   "codemirror_mode": {
    "name": "ipython",
    "version": 3
   },
   "file_extension": ".py",
   "mimetype": "text/x-python",
   "name": "python",
   "nbconvert_exporter": "python",
   "pygments_lexer": "ipython3",
   "version": "3.11.7"
  }
 },
 "nbformat": 4,
 "nbformat_minor": 5
}
